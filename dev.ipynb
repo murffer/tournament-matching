{
 "cells": [
  {
   "cell_type": "code",
   "execution_count": 1,
   "metadata": {},
   "outputs": [],
   "source": [
    "import itertools"
   ]
  },
  {
   "cell_type": "code",
   "execution_count": 2,
   "metadata": {},
   "outputs": [],
   "source": [
    "n = 2 # Number of players per team\n",
    "t = 4 # Number of teams\n",
    "players = range(n*t)"
   ]
  },
  {
   "cell_type": "code",
   "execution_count": 3,
   "metadata": {},
   "outputs": [],
   "source": [
    "# Possible teams - combos is unique\n",
    "combos = itertools.combinations(players, r = n)"
   ]
  },
  {
   "cell_type": "code",
   "execution_count": 4,
   "metadata": {},
   "outputs": [],
   "source": [
    "possible_matchups = itertools.combinations(combos, r = 2)\n",
    "possible_rounds = itertools.combinations(possible_matchups, r = t//2)"
   ]
  },
  {
   "cell_type": "code",
   "execution_count": 5,
   "metadata": {},
   "outputs": [],
   "source": [
    "# Using the iterators and flattening\n",
    "combos = itertools.combinations(players, r = n)\n",
    "possible_matchups = itertools.combinations(combos, r = 2)\n",
    "pm = list(possible_matchups)\n",
    "possible_rounds = itertools.combinations(pm, r = t//2)\n",
    "pr = list(possible_rounds)"
   ]
  },
  {
   "cell_type": "markdown",
   "metadata": {},
   "source": [
    "Rules are:\n",
    "\n",
    "1. Team combinations for each round must be unique\n",
    "\n",
    "    If `AB` played together once, than `AB` cannot play together again\n",
    "\n",
    "2. Cannot play a team again\n",
    "\n",
    "    If `AB` x `CD` played in the first round, `AB` cannot play `CD` again\n",
    "\n"
   ]
  },
  {
   "cell_type": "code",
   "execution_count": 11,
   "metadata": {},
   "outputs": [],
   "source": [
    "\n",
    "\n",
    "# Tests\n",
    "u0 = ((0, 1), (2, 3))\n",
    "unique_matchup(u0)\n",
    "\n",
    "u1 = ((0, 1), (0, 2))\n",
    "unique_matchup(u1)\n",
    "\n",
    "u = list(filter(unique_matchup, pm))\n",
    "print(f'orig: {len(pm):,} filtered: {len(u):,}')\n",
    "\n"
   ]
  },
  {
   "cell_type": "code",
   "execution_count": 15,
   "metadata": {},
   "outputs": [
    {
     "name": "stdout",
     "output_type": "stream",
     "text": [
      "orig: 71,253 filtered: 61,425\n"
     ]
    }
   ],
   "source": [
    "r = list(filter(unique_teams, pr))\n",
    "print(f'orig: {len(pr):,} filtered: {len(r):,}')"
   ]
  },
  {
   "cell_type": "code",
   "execution_count": 19,
   "metadata": {},
   "outputs": [
    {
     "data": {
      "text/plain": [
       "True"
      ]
     },
     "execution_count": 19,
     "metadata": {},
     "output_type": "execute_result"
    }
   ],
   "source": []
  },
  {
   "cell_type": "code",
   "execution_count": 20,
   "metadata": {},
   "outputs": [
    {
     "data": {
      "text/plain": [
       "False"
      ]
     },
     "execution_count": 20,
     "metadata": {},
     "output_type": "execute_result"
    }
   ],
   "source": []
  },
  {
   "cell_type": "code",
   "execution_count": 17,
   "metadata": {},
   "outputs": [
    {
     "data": {
      "text/plain": [
       "True"
      ]
     },
     "execution_count": 17,
     "metadata": {},
     "output_type": "execute_result"
    }
   ],
   "source": [
    "ri = (((0, 1), (0, 2)), ((0, 3), (0, 4)))\n",
    "unique_teams(ri)"
   ]
  },
  {
   "cell_type": "code",
   "execution_count": null,
   "metadata": {},
   "outputs": [],
   "source": [
    "possible_rounds = itertools.combinations(pm, r = t//2)\n",
    "pr = list(possible_rounds)"
   ]
  },
  {
   "cell_type": "code",
   "execution_count": null,
   "metadata": {},
   "outputs": [],
   "source": [
    "\n",
    "class BracketGenerator:\n",
    "    def __init__(self, num_players, num_teams):\n",
    "        self.n = num_players\n",
    "        self.t = num_teams\n",
    "        self.players = range(n*t)\n",
    "    def matchups(self):\n",
    "        # All possible combinations of players - combinations is unique\n",
    "        combos = itertools.combinations(self.players, r = n)\n",
    "        pm_iter = itertools.combinations(combos, r = 2) # two teams play each other at a time\n",
    "        valid_matchups = filter(unique_matchup, pm_iter)\n",
    "        return(valid_matchups)\n",
    "    def rounds(self):\n",
    "        pm = self.matchups()\n",
    "        pr = itertools.combinations(pm, r = self.t//2)\n",
    "        valid_rounds = filter(unique_teams, pr)\n",
    "        return(valid_rounds)\n",
    "\n",
    "br = BracketGenerator(2, 4)\n",
    "\n",
    "r = list(br.rounds())\n",
    "r"
   ]
  },
  {
   "cell_type": "code",
   "execution_count": 7,
   "metadata": {},
   "outputs": [
    {
     "data": {
      "text/plain": [
       "(((0, 1), (2, 3)), ((0, 2), (1, 3)))"
      ]
     },
     "execution_count": 7,
     "metadata": {},
     "output_type": "execute_result"
    }
   ],
   "source": [
    "br.matchups"
   ]
  }
 ],
 "metadata": {
  "kernelspec": {
   "display_name": "Python 3",
   "language": "python",
   "name": "python3"
  },
  "language_info": {
   "codemirror_mode": {
    "name": "ipython",
    "version": 3
   },
   "file_extension": ".py",
   "mimetype": "text/x-python",
   "name": "python",
   "nbconvert_exporter": "python",
   "pygments_lexer": "ipython3",
   "version": "3.10.13"
  }
 },
 "nbformat": 4,
 "nbformat_minor": 2
}
