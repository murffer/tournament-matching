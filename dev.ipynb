{
 "cells": [
  {
   "cell_type": "code",
   "execution_count": 11,
   "metadata": {},
   "outputs": [],
   "source": [
    "import itertools"
   ]
  },
  {
   "cell_type": "code",
   "execution_count": 12,
   "metadata": {},
   "outputs": [],
   "source": [
    "n = 2 # Number of players per team\n",
    "t = 4 # Number of teams\n",
    "players = range(n*t)\n",
    "combos = itertools.combinations(players, r = n)"
   ]
  },
  {
   "cell_type": "code",
   "execution_count": 14,
   "metadata": {},
   "outputs": [],
   "source": [
    "possible_matchups = itertools.combinations(combos, r = 2)"
   ]
  },
  {
   "cell_type": "code",
   "execution_count": 5,
   "metadata": {},
   "outputs": [],
   "source": [
    "possible_rounds = itertools.combinations(possible_matchups, r = t//2)"
   ]
  },
  {
   "cell_type": "code",
   "execution_count": 13,
   "metadata": {},
   "outputs": [],
   "source": [
    "class BracketGenerator:\n",
    "    def __init__(self, n, t):\n",
    "        self.n = n\n",
    "        self.t = t\n",
    "        self.players = range(n*t)\n",
    "    def matchups(self):\n",
    "        # All possible combinations of players\n",
    "        combos = itertools.combinations(self.players, r = n)\n",
    "        pm_iter = itertools.combinations(combos, r = 2) # two teams play each other at a time\n",
    "        return(pm_iter)\n",
    "    def rounds(self):\n",
    "        pm = self.matchups()\n",
    "        pr = itertools.combinations(possible_matchups, r = self.t//2)\n",
    "        return(self)\n",
    "br = BracketGenerator(2, 4)"
   ]
  }
 ],
 "metadata": {
  "kernelspec": {
   "display_name": "Python 3",
   "language": "python",
   "name": "python3"
  },
  "language_info": {
   "codemirror_mode": {
    "name": "ipython",
    "version": 3
   },
   "file_extension": ".py",
   "mimetype": "text/x-python",
   "name": "python",
   "nbconvert_exporter": "python",
   "pygments_lexer": "ipython3",
   "version": "3.10.13"
  }
 },
 "nbformat": 4,
 "nbformat_minor": 2
}
